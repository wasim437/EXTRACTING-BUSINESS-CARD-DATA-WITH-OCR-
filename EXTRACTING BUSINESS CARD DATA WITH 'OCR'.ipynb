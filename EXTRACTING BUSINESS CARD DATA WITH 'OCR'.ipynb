{
 "cells": [
  {
   "cell_type": "code",
   "execution_count": 1,
   "id": "0dc0d2a6-9257-48e2-8734-d78ff379dc21",
   "metadata": {},
   "outputs": [],
   "source": [
    "import streamlit as st \n",
    "from streamlit_option_menu import option_menu\n",
    "import easyocr \n",
    "from PIL import Image \n",
    "import pandas as pd\n",
    "import numpy as np\n",
    "import re\n",
    "import io\n",
    "import sqlite3"
   ]
  },
  {
   "cell_type": "code",
   "execution_count": 2,
   "id": "9c636f7c-1633-40fe-8895-8128e5cc339b",
   "metadata": {},
   "outputs": [],
   "source": [
    "def image_to_text(path):\n",
    "\n",
    "    input_img = Image.open(path)\n",
    "    #converting iamge to array format\n",
    "    image_arr=np.array(input_img)\n",
    "    reader = easyocr.Reader(['en'])\n",
    "    text = reader.readtext(image_arr ,detail = 0)\n",
    "    return text ,input_img"
   ]
  },
  {
   "cell_type": "code",
   "execution_count": 4,
   "id": "4dfa51e8-d387-4990-9726-93c6afecb662",
   "metadata": {},
   "outputs": [
    {
     "name": "stderr",
     "output_type": "stream",
     "text": [
      "Neither CUDA nor MPS are available - defaulting to CPU. Note: This module is much faster with a GPU.\n"
     ]
    }
   ],
   "source": [
    "text_img ,input_img= image_to_text(\"C:/Users/misaw/Documents/1.png\")"
   ]
  },
  {
   "cell_type": "code",
   "execution_count": 5,
   "id": "c961efc7-e60c-4418-a193-f24fc949f61a",
   "metadata": {},
   "outputs": [
    {
     "data": {
      "text/plain": [
       "['Selva',\n",
       " 'DATA MANAGER',\n",
       " '+123-456-7890',\n",
       " '+123-456-7891',\n",
       " 'WWW XYZI.com',\n",
       " 'hello@XYZ1.com',\n",
       " '123 ABC St , Chennai;',\n",
       " 'selva',\n",
       " 'TamilNadu 600113',\n",
       " 'digitals']"
      ]
     },
     "execution_count": 5,
     "metadata": {},
     "output_type": "execute_result"
    }
   ],
   "source": [
    "text_img"
   ]
  },
  {
   "cell_type": "code",
   "execution_count": 6,
   "id": "77e43f1c-1b8c-47e5-8b50-20eeb2e7c1ff",
   "metadata": {},
   "outputs": [
    {
     "name": "stderr",
     "output_type": "stream",
     "text": [
      "Neither CUDA nor MPS are available - defaulting to CPU. Note: This module is much faster with a GPU.\n"
     ]
    }
   ],
   "source": [
    "text_img ,input_img= image_to_text(\"C:/Users/misaw/Documents/2.png\")"
   ]
  },
  {
   "cell_type": "code",
   "execution_count": 7,
   "id": "e2958200-3500-4db1-b1f2-a169208b4ecb",
   "metadata": {},
   "outputs": [
    {
     "data": {
      "text/plain": [
       "['Amit kumar',\n",
       " 'CEO & FOUNDER',\n",
       " '123-456-7569',\n",
       " 'hello@global.com',\n",
       " 'WWW',\n",
       " 'global.com',\n",
       " '123 global',\n",
       " 'Erode,',\n",
       " 'GLOBAL',\n",
       " 'TamilNadu 600115',\n",
       " 'INSURANCE',\n",
       " 'St ,']"
      ]
     },
     "execution_count": 7,
     "metadata": {},
     "output_type": "execute_result"
    }
   ],
   "source": [
    "text_img"
   ]
  },
  {
   "cell_type": "code",
   "execution_count": 8,
   "id": "8cadf83f-d765-4499-9f3a-379f2cf8f46e",
   "metadata": {},
   "outputs": [
    {
     "name": "stderr",
     "output_type": "stream",
     "text": [
      "Neither CUDA nor MPS are available - defaulting to CPU. Note: This module is much faster with a GPU.\n"
     ]
    }
   ],
   "source": [
    "text_img ,input_img= image_to_text(\"C:/Users/misaw/Documents/3.png\")"
   ]
  },
  {
   "cell_type": "code",
   "execution_count": 9,
   "id": "3e1e8a58-4fb7-412c-bdb3-7afb1386ffd2",
   "metadata": {},
   "outputs": [
    {
     "data": {
      "text/plain": [
       "['KARTHICK',\n",
       " 'General Manager',\n",
       " '123 ABC St , Salem,',\n",
       " 'TamilNadu 6004513',\n",
       " '+123-456-7890',\n",
       " 'hello@Borcelle.com',\n",
       " 'wwW.Borcelle.com',\n",
       " 'BORCELLE',\n",
       " 'AIRLINES']"
      ]
     },
     "execution_count": 9,
     "metadata": {},
     "output_type": "execute_result"
    }
   ],
   "source": [
    "text_img"
   ]
  },
  {
   "cell_type": "code",
   "execution_count": 10,
   "id": "bc15f33f-1963-4bd5-aa35-cc208ff35b21",
   "metadata": {},
   "outputs": [
    {
     "name": "stderr",
     "output_type": "stream",
     "text": [
      "Neither CUDA nor MPS are available - defaulting to CPU. Note: This module is much faster with a GPU.\n"
     ]
    }
   ],
   "source": [
    "text_img ,input_img= image_to_text(\"C:/Users/misaw/Documents/4.png\")"
   ]
  },
  {
   "cell_type": "code",
   "execution_count": 11,
   "id": "c5b85319-2e46-46d4-85bb-6e25c0ca0c5f",
   "metadata": {},
   "outputs": [
    {
     "data": {
      "text/plain": [
       "['REVANTH',\n",
       " 'Marketing Executive',\n",
       " '123 ABC St,, HYDRABAD, TamilNadu;',\n",
       " '600001',\n",
       " '+91-456-1234',\n",
       " 'hello@CHRISTMAS.com',\n",
       " 'Family',\n",
       " 'wwW.CHRISTMAS.com',\n",
       " 'Restaurant']"
      ]
     },
     "execution_count": 11,
     "metadata": {},
     "output_type": "execute_result"
    }
   ],
   "source": [
    "text_img"
   ]
  },
  {
   "cell_type": "code",
   "execution_count": 12,
   "id": "51065b96-a6d7-4723-a9ec-119a63aba22b",
   "metadata": {},
   "outputs": [
    {
     "name": "stderr",
     "output_type": "stream",
     "text": [
      "Neither CUDA nor MPS are available - defaulting to CPU. Note: This module is much faster with a GPU.\n"
     ]
    }
   ],
   "source": [
    "text_img ,input_img= image_to_text(\"C:/Users/misaw/Documents/5.png\")"
   ]
  },
  {
   "cell_type": "code",
   "execution_count": 13,
   "id": "6c63f526-0258-411d-a764-aaccf77e1d2f",
   "metadata": {},
   "outputs": [
    {
     "data": {
      "text/plain": [
       "['SANTHOSH',\n",
       " 'Technical Manager',\n",
       " '123 ABC St , Tirupur, TamilNadu;',\n",
       " '641603',\n",
       " '+123-456-1234',\n",
       " 'hello@Sun.com',\n",
       " 'www.Suncom',\n",
       " 'Sun Electricals']"
      ]
     },
     "execution_count": 13,
     "metadata": {},
     "output_type": "execute_result"
    }
   ],
   "source": [
    "text_img"
   ]
  },
  {
   "cell_type": "code",
   "execution_count": 14,
   "id": "20a569fb-f842-4969-8e4b-fc281d4505d6",
   "metadata": {},
   "outputs": [],
   "source": [
    "def extracted_text(texts):\n",
    "\n",
    "  extrd_dict = {\"NAME\":[], \"DESIGNATION\":[], \"COMPANY_NAME\":[], \"CONTACT\":[], \"EMAIL\":[], \"WEBSITE\":[],\n",
    "                \"ADDRESS\":[], \"PINCODE\":[]}\n",
    "\n",
    "  extrd_dict[\"NAME\"].append(texts[0])\n",
    "  extrd_dict[\"DESIGNATION\"].append(texts[1])\n",
    "\n",
    "  for i in range(2,len(texts)):\n",
    "\n",
    "    if texts[i].startswith(\"+\") or (texts[i].replace(\"-\",\"\").isdigit() and '-' in texts[i]):\n",
    "\n",
    "      extrd_dict[\"CONTACT\"].append(texts[i])\n",
    "\n",
    "    elif \"@\" in texts[i] and \".com\" in texts[i]:\n",
    "      extrd_dict[\"EMAIL\"].append(texts[i])\n",
    "\n",
    "    elif \"WWW\" in texts[i] or \"www\" in texts[i] or \"Www\" in texts[i] or \"wWw\" in texts[i] or \"wwW\" in texts[i]:\n",
    "      small= texts[i].lower()\n",
    "      extrd_dict[\"WEBSITE\"].append(small)\n",
    "\n",
    "    elif \"Tamil Nadu\" in texts[i] or \"TamilNadu\" in texts[i] or texts[i].isdigit():\n",
    "      extrd_dict[\"PINCODE\"].append(texts[i])\n",
    "\n",
    "    elif re.match(r'^[A-Za-z]', texts[i]):\n",
    "      extrd_dict[\"COMPANY_NAME\"].append(texts[i])\n",
    "\n",
    "    else:\n",
    "      remove_colon= re.sub(r'[,;]','',texts[i])\n",
    "      extrd_dict[\"ADDRESS\"].append(remove_colon)\n",
    "\n",
    "  for key,value in extrd_dict.items():\n",
    "    if len(value)>0:\n",
    "      concadenate= \" \".join(value)\n",
    "      extrd_dict[key] = [concadenate]\n",
    "\n",
    "    else:\n",
    "      value = \"NA\"\n",
    "      extrd_dict[key] = [value]\n",
    "\n",
    "  return extrd_dict"
   ]
  },
  {
   "cell_type": "code",
   "execution_count": 15,
   "id": "d5f41ae0-00ee-4608-9825-03c251735159",
   "metadata": {},
   "outputs": [
    {
     "data": {
      "text/plain": [
       "{'NAME': ['SANTHOSH'],\n",
       " 'DESIGNATION': ['Technical Manager'],\n",
       " 'COMPANY_NAME': ['Sun Electricals'],\n",
       " 'CONTACT': ['+123-456-1234'],\n",
       " 'EMAIL': ['hello@Sun.com'],\n",
       " 'WEBSITE': ['www.suncom'],\n",
       " 'ADDRESS': ['NA'],\n",
       " 'PINCODE': ['123 ABC St , Tirupur, TamilNadu; 641603']}"
      ]
     },
     "execution_count": 15,
     "metadata": {},
     "output_type": "execute_result"
    }
   ],
   "source": [
    "extracted_text(text_img)"
   ]
  },
  {
   "cell_type": "code",
   "execution_count": 21,
   "id": "aff43315-8bd5-45c2-afe1-e5662ed93809",
   "metadata": {},
   "outputs": [
    {
     "name": "stdout",
     "output_type": "stream",
     "text": [
      "Overwriting my_app.py\n"
     ]
    }
   ],
   "source": [
    "%%writefile my_app.py\n",
    "\n",
    "import streamlit as st \n",
    "from streamlit_option_menu import option_menu\n",
    "import easyocr \n",
    "from PIL import Image \n",
    "import pandas as pd\n",
    "import numpy as np\n",
    "import re\n",
    "import io\n",
    "import sqlite3\n",
    "\n",
    "\n",
    "def image_to_text(path):\n",
    "\n",
    "    input_img = Image.open(path)\n",
    "    #converting image to array format\n",
    "    image_arr=np.array(input_img)\n",
    "    reader = easyocr.Reader(['en'])\n",
    "    text = reader.readtext(image_arr ,detail = 0)\n",
    "    return text ,input_img\n",
    "\n",
    "def extracted_text(texts):\n",
    "\n",
    "  extrd_dict = {\"NAME\":[], \"DESIGNATION\":[], \"COMPANY_NAME\":[], \"CONTACT\":[], \"EMAIL\":[], \"WEBSITE\":[],\n",
    "                \"ADDRESS\":[], \"PINCODE\":[]}\n",
    "\n",
    "  extrd_dict[\"NAME\"].append(texts[0])\n",
    "  extrd_dict[\"DESIGNATION\"].append(texts[1])\n",
    "\n",
    "  for i in range(2,len(texts)):\n",
    "\n",
    "    if texts[i].startswith(\"+\") or (texts[i].replace(\"-\",\"\").isdigit() and '-' in texts[i]):\n",
    "\n",
    "      extrd_dict[\"CONTACT\"].append(texts[i])\n",
    "\n",
    "    elif \"@\" in texts[i] and \".com\" in texts[i]:\n",
    "      extrd_dict[\"EMAIL\"].append(texts[i])\n",
    "\n",
    "    elif \"WWW\" in texts[i] or \"www\" in texts[i] or \"Www\" in texts[i] or \"wWw\" in texts[i] or \"wwW\" in texts[i]:\n",
    "      small= texts[i].lower()\n",
    "      extrd_dict[\"WEBSITE\"].append(small)\n",
    "\n",
    "    elif \"Tamil Nadu\" in texts[i] or \"TamilNadu\" in texts[i] or texts[i].isdigit():\n",
    "      extrd_dict[\"PINCODE\"].append(texts[i])\n",
    "\n",
    "    elif re.match(r'^[A-Za-z]', texts[i]):\n",
    "      extrd_dict[\"COMPANY_NAME\"].append(texts[i])\n",
    "\n",
    "    else:\n",
    "      remove_colon= re.sub(r'[,;]','',texts[i])\n",
    "      extrd_dict[\"ADDRESS\"].append(remove_colon)\n",
    "\n",
    "  for key,value in extrd_dict.items():\n",
    "    if len(value)>0:\n",
    "      concadenate= \" \".join(value)\n",
    "      extrd_dict[key] = [concadenate]\n",
    "\n",
    "    else:\n",
    "      value = \"NA\"\n",
    "      extrd_dict[key] = [value]\n",
    "\n",
    "  return extrd_dict\n",
    "\n",
    "\n",
    "#streamlit part\n",
    "st.set_page_config(layout = \"wide\")\n",
    "st.title(\"EXTRACTING BUSINESS CARD DATA WITH 'OCR'\")\n",
    "\n",
    "with st.sidebar:\n",
    "\n",
    "  select= option_menu(\"Main Menu\", [\"Home\", \"Upload & Modifying\", \"Delete\"])\n",
    "\n",
    "if select == \"Home\":\n",
    "  st.markdown(\"### :blue[**Technologies Used :**] Python,easy OCR, Streamlit, SQL, Pandas\")\n",
    "\n",
    "\n",
    "\n",
    "  st.write(\n",
    "            \"### :green[**About :**] Bizcard is a Python application designed to extract information from business cards.\")\n",
    "  st.write(\n",
    "            '### The main purpose of Bizcard is to automate the process of extracting key details from business card images, such as the name, designation, company, contact information, and other relevant data. By leveraging the power of OCR (Optical Character Recognition) provided by EasyOCR, Bizcard is able to extract text from the images.')\n",
    "\n",
    "elif select == \"Upload & Modifying\":\n",
    "  img = st.file_uploader(\"Upload the Image\", type= [\"png\",\"jpg\",\"jpeg\"])\n",
    "\n",
    "  if img is not None:\n",
    "    st.image(img, width= 300)\n",
    "\n",
    "    text_image, input_img= image_to_text(img)\n",
    "\n",
    "    text_dict = extracted_text(text_image)\n",
    "\n",
    "    if text_dict:\n",
    "      st.success(\"TEXT IS EXTRACTED SUCCESSFULLY\")\n",
    "\n",
    "    df= pd.DataFrame(text_dict)\n",
    "\n",
    "    #Converting Image to Bytes\n",
    "\n",
    "    Image_bytes = io.BytesIO()\n",
    "    input_img.save(Image_bytes, format= \"PNG\")\n",
    "\n",
    "    image_data = Image_bytes.getvalue()\n",
    "\n",
    "    #Creating Dictionary\n",
    "    data = {\"IMAGE\":[image_data]}\n",
    "\n",
    "    df_1 = pd.DataFrame(data)\n",
    "\n",
    "    concat_df = pd.concat([df,df_1],axis= 1)\n",
    "\n",
    "    st.dataframe(concat_df)\n",
    "\n",
    "    button_1 = st.button(\"Save\", use_container_width = True)\n",
    "\n",
    "    if button_1:\n",
    "\n",
    "      mydb = sqlite3.connect(\"bizcardx.db\")\n",
    "      cursor = mydb.cursor()\n",
    "\n",
    "      #Table Creation\n",
    "\n",
    "      create_table_query = '''CREATE TABLE IF NOT EXISTS bizcard_details(name varchar(225),\n",
    "                                                                          designation varchar(225),\n",
    "                                                                          company_name varchar(225),\n",
    "                                                                          contact varchar(225),\n",
    "                                                                          email varchar(225),\n",
    "                                                                          website text,\n",
    "                                                                          address text,\n",
    "                                                                          pincode varchar(225),\n",
    "                                                                          image text)'''\n",
    "\n",
    "      cursor.execute(create_table_query)\n",
    "      mydb.commit()\n",
    "\n",
    "      # Insert Query\n",
    "\n",
    "      insert_query = '''INSERT INTO bizcard_details(name, designation, company_name,contact, email, website, address,\n",
    "                                                    pincode, image)\n",
    "\n",
    "                                                    values(?,?,?,?,?,?,?,?,?)'''\n",
    "\n",
    "      datas = concat_df.values.tolist()[0]\n",
    "      cursor.execute(insert_query,datas)\n",
    "      mydb.commit()\n",
    "\n",
    "      st.success(\"SAVED SUCCESSFULLY\")\n",
    "\n",
    "  method =  st.radio(\"Select the Method\",[\"None\",\"Preview\",\"Modify\"])\n",
    "\n",
    "  if method == \"None\":\n",
    "    st.write(\"\")\n",
    "\n",
    "  if method == \"Preview\":\n",
    "\n",
    "    mydb = sqlite3.connect(\"bizcardx.db\")\n",
    "    cursor = mydb.cursor()\n",
    "\n",
    "    #select query\n",
    "    select_query = \"SELECT * FROM bizcard_details\"\n",
    "\n",
    "    cursor.execute(select_query)\n",
    "    table = cursor.fetchall()\n",
    "    mydb.commit()\n",
    "\n",
    "    table_df = pd.DataFrame(table, columns=(\"NAME\", \"DESIGNATION\", \"COMPANY_NAME\", \"CONTACT\", \"EMAIL\", \"WEBSITE\",\n",
    "                                            \"ADDRESS\", \"PINCODE\", \"IMAGE\"))\n",
    "    st.dataframe(table_df)\n",
    "\n",
    "  elif method == \"Modify\":\n",
    "\n",
    "    mydb = sqlite3.connect(\"bizcardx.db\")\n",
    "    cursor = mydb.cursor()\n",
    "\n",
    "    #select query\n",
    "    select_query = \"SELECT * FROM bizcard_details\"\n",
    "\n",
    "    cursor.execute(select_query)\n",
    "    table = cursor.fetchall()\n",
    "    mydb.commit()\n",
    "\n",
    "    table_df = pd.DataFrame(table, columns=(\"NAME\", \"DESIGNATION\", \"COMPANY_NAME\", \"CONTACT\", \"EMAIL\", \"WEBSITE\",\n",
    "                                            \"ADDRESS\", \"PINCODE\", \"IMAGE\"))\n",
    "\n",
    "    col1,col2 = st.columns(2)\n",
    "    with col1:\n",
    "\n",
    "      selected_name = st.selectbox(\"Select the name\", table_df[\"NAME\"])\n",
    "\n",
    "    df_3 = table_df[table_df[\"NAME\"] == selected_name]\n",
    "\n",
    "    df_4 = df_3.copy() \n",
    "\n",
    "    col1,col2 = st.columns(2)\n",
    "    with col1:\n",
    "      mo_name = st.text_input(\"Name\", df_3[\"NAME\"].unique()[0])\n",
    "      mo_desi = st.text_input(\"Designation\", df_3[\"DESIGNATION\"].unique()[0])\n",
    "      mo_com_name = st.text_input(\"Company_name\", df_3[\"COMPANY_NAME\"].unique()[0])\n",
    "      mo_contact = st.text_input(\"Contact\", df_3[\"CONTACT\"].unique()[0])\n",
    "      mo_email = st.text_input(\"Email\", df_3[\"EMAIL\"].unique()[0])\n",
    "\n",
    "      df_4[\"NAME\"] = mo_name\n",
    "      df_4[\"DESIGNATION\"] = mo_desi\n",
    "      df_4[\"COMPANY_NAME\"] = mo_com_name\n",
    "      df_4[\"CONTACT\"] = mo_contact\n",
    "      df_4[\"EMAIL\"] = mo_email\n",
    "\n",
    "    with col2:\n",
    "      \n",
    "      mo_website = st.text_input(\"Website\", df_3[\"WEBSITE\"].unique()[0])\n",
    "      mo_addre = st.text_input(\"Address\", df_3[\"ADDRESS\"].unique()[0])\n",
    "      mo_pincode = st.text_input(\"Pincode\", df_3[\"PINCODE\"].unique()[0])\n",
    "      mo_image = st.text_input(\"Image\", df_3[\"IMAGE\"].unique()[0])\n",
    "\n",
    "      df_4[\"WEBSITE\"] = mo_website\n",
    "      df_4[\"ADDRESS\"] = mo_addre\n",
    "      df_4[\"PINCODE\"] = mo_pincode\n",
    "      df_4[\"IMAGE\"] = mo_image\n",
    "\n",
    "    st.dataframe(df_4)\n",
    "\n",
    "    col1,col2= st.columns(2)\n",
    "    with col1:\n",
    "      button_3 = st.button(\"Modify\", use_container_width = True)\n",
    "\n",
    "    if button_3:\n",
    "\n",
    "      mydb = sqlite3.connect(\"bizcardx.db\")\n",
    "      cursor = mydb.cursor()\n",
    "\n",
    "      cursor.execute(f\"DELETE FROM bizcard_details WHERE NAME = '{selected_name}'\")\n",
    "      mydb.commit()\n",
    "\n",
    "      # Insert Query\n",
    "\n",
    "      insert_query = '''INSERT INTO bizcard_details(name, designation, company_name,contact, email, website, address,\n",
    "                                                    pincode, image)\n",
    "\n",
    "                                                    values(?,?,?,?,?,?,?,?,?)'''\n",
    "\n",
    "      datas = df_4.values.tolist()[0]\n",
    "      cursor.execute(insert_query,datas)\n",
    "      mydb.commit()\n",
    "\n",
    "      st.success(\"MODIFYED SUCCESSFULLY\")\n",
    "\n",
    "\n",
    "\n",
    "elif select == \"Delete\":\n",
    "  \n",
    "  mydb = sqlite3.connect(\"bizcardx.db\")\n",
    "  cursor = mydb.cursor()\n",
    "\n",
    "  col1,col2 = st.columns(2)\n",
    "  with col1:\n",
    "\n",
    "    select_query = \"SELECT NAME FROM bizcard_details\"\n",
    "\n",
    "    cursor.execute(select_query)\n",
    "    table1 = cursor.fetchall()\n",
    "    mydb.commit()\n",
    "\n",
    "    names = []\n",
    "\n",
    "    for i in table1:\n",
    "      names.append(i[0])\n",
    "\n",
    "    name_select = st.selectbox(\"Select the name\", names)\n",
    "\n",
    "  with col2:\n",
    "\n",
    "    select_query = f\"SELECT DESIGNATION FROM bizcard_details WHERE NAME ='{name_select}'\"\n",
    "\n",
    "    cursor.execute(select_query)\n",
    "    table2 = cursor.fetchall()\n",
    "    mydb.commit()\n",
    "\n",
    "    designations = []\n",
    "\n",
    "    for j in table2:\n",
    "      designations.append(j[0])\n",
    "\n",
    "    designation_select = st.selectbox(\"Select the designation\", options = designations)\n",
    "\n",
    "  if name_select and designation_select:\n",
    "    col1,col2,col3 = st.columns(3)\n",
    "\n",
    "    with col1:\n",
    "      st.write(f\"Selected Name : {name_select}\")\n",
    "      st.write(\"\")\n",
    "      st.write(\"\")\n",
    "      st.write(\"\")\n",
    "      st.write(f\"Selected Designation : {designation_select}\")\n",
    "\n",
    "    with col2:\n",
    "      st.write(\"\")\n",
    "      st.write(\"\")\n",
    "      st.write(\"\")\n",
    "      st.write(\"\")\n",
    "\n",
    "      remove = st.button(\"Delete\", use_container_width= True)\n",
    "\n",
    "      if remove:\n",
    "\n",
    "        cursor.execute(f\"DELETE FROM bizcard_details WHERE NAME ='{name_select}' AND DESIGNATION = '{designation_select}'\")\n",
    "        mydb.commit()\n",
    "\n",
    "        st.warning(\"DELETED\")\n",
    "\n",
    "\n",
    "   "
   ]
  },
  {
   "cell_type": "code",
   "execution_count": null,
   "id": "ff3faaca-c5c9-4c55-9e71-d62767da2d10",
   "metadata": {},
   "outputs": [],
   "source": []
  },
  {
   "cell_type": "code",
   "execution_count": null,
   "id": "6c76d944-85b7-4e3d-a5ef-dcd72af50a20",
   "metadata": {},
   "outputs": [],
   "source": []
  },
  {
   "cell_type": "code",
   "execution_count": null,
   "id": "8a45dccd-cb0f-4d03-8cfa-9b0e8e7c0ce0",
   "metadata": {},
   "outputs": [],
   "source": []
  }
 ],
 "metadata": {
  "kernelspec": {
   "display_name": "Python 3 (ipykernel)",
   "language": "python",
   "name": "python3"
  },
  "language_info": {
   "codemirror_mode": {
    "name": "ipython",
    "version": 3
   },
   "file_extension": ".py",
   "mimetype": "text/x-python",
   "name": "python",
   "nbconvert_exporter": "python",
   "pygments_lexer": "ipython3",
   "version": "3.11.5"
  }
 },
 "nbformat": 4,
 "nbformat_minor": 5
}
